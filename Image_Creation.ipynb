{
  "nbformat": 4,
  "nbformat_minor": 0,
  "metadata": {
    "colab": {
      "name": "Image_Creation.ipynb",
      "provenance": []
    },
    "kernelspec": {
      "name": "python3",
      "display_name": "Python 3"
    }
  },
  "cells": [
    {
      "cell_type": "code",
      "metadata": {
        "id": "M4Nz753lBGqK",
        "colab_type": "code",
        "colab": {}
      },
      "source": [
        "\n",
        "seed_value= 0\n",
        "import os\n",
        "os.environ['PYTHONHASHSEED']=str(seed_value)\n",
        "\n",
        "import random\n",
        "random.seed(seed_value)\n",
        "\n",
        "import numpy as np\n",
        "np.random.seed(seed_value)\n",
        "\n",
        "\n",
        "import tensorflow as tf\n",
        "#tf.random.set_seed(seed_value)\n",
        "tf.compat.v1.set_random_seed(seed_value)\n",
        "\n",
        "from keras import backend as K\n",
        "session_conf = tf.compat.v1.ConfigProto(intra_op_parallelism_threads=1, inter_op_parallelism_threads=1)\n",
        "sess = tf.compat.v1.Session(graph=tf.compat.v1.get_default_graph(), config=session_conf)\n",
        "tf.compat.v1.keras.backend.set_session(sess)\n",
        "\n",
        "import pandas as pd\n",
        "import matplotlib.pyplot as plt\n",
        "from itertools import chain "
      ],
      "execution_count": null,
      "outputs": []
    },
    {
      "cell_type": "code",
      "metadata": {
        "id": "eH3QqJ2-IY3K",
        "colab_type": "code",
        "colab": {}
      },
      "source": [
        "\n",
        "from tensorflow.keras import datasets, layers, models\n",
        "from tensorflow.keras import regularizers"
      ],
      "execution_count": null,
      "outputs": []
    },
    {
      "cell_type": "code",
      "metadata": {
        "id": "BPGd_ZxXIdJO",
        "colab_type": "code",
        "colab": {}
      },
      "source": [
        "df=pd.read_csv(\"training.csv\")\n",
        "#df=pd.read_csv(\"validation.csv\")  #Validation-set\n",
        "#df=pd.read_csv(\"testing.csv\")  #test-set"
      ],
      "execution_count": null,
      "outputs": []
    },
    {
      "cell_type": "markdown",
      "metadata": {
        "id": "JxWlNjJDNgYu",
        "colab_type": "text"
      },
      "source": [
        "# ***Array Creation from normalized value of Technical Indicators***"
      ]
    },
    {
      "cell_type": "code",
      "metadata": {
        "id": "oG7JT_f3IxIN",
        "colab_type": "code",
        "colab": {}
      },
      "source": [
        "rsi=df[['rsi'+str(n) for n in range(6,21)]].to_numpy()\n",
        "roc=df[['roc'+str(n) for n in range(6,21)]].to_numpy()\n",
        "sma=df[['sma'+str(n) for n in range(6,21)]].to_numpy()\n",
        "ema=df[['ema'+str(n) for n in range(6,21)]].to_numpy()\n",
        "wma=df[['wma'+str(n) for n in range(6,21)]].to_numpy()\n",
        "tema=df[['tema'+str(n) for n in range(6,21)]].to_numpy()\n",
        "william=df[['william'+str(n) for n in range(6,21)]].to_numpy()\n",
        "cci=df[['cci'+str(n) for n in range(6,21)]].to_numpy()\n",
        "cmo=df[['cmo'+str(n) for n in range(6,21)]].to_numpy()\n",
        "macd=df[['macd'+str(n) for n in range(6,21)]].to_numpy()\n",
        "ppo=df[['ppo'+str(n) for n in range(6,21)]].to_numpy()\n",
        "parabolicsar=df[['parabolicsar'+str(n) for n in range(6,21)]].to_numpy()"
      ],
      "execution_count": null,
      "outputs": []
    },
    {
      "cell_type": "code",
      "metadata": {
        "id": "HvmViB-_I85A",
        "colab_type": "code",
        "colab": {}
      },
      "source": [
        "train_images=[[j for j in chain.from_iterable([rsi[i],roc[i],sma[i],ema[i],william[i],cci[i],cmo[i],macd[i],ppo[i],tema[i],wma[i],parabolicsar[i]])]for i in df.index]"
      ],
      "execution_count": null,
      "outputs": []
    },
    {
      "cell_type": "code",
      "metadata": {
        "id": "pSRluchYJD5I",
        "colab_type": "code",
        "colab": {}
      },
      "source": [
        "train_images=np.array(train_images)\n",
        "train_images.shape()\n",
        "train_images=train_images.reshape(1732,12,15)"
      ],
      "execution_count": null,
      "outputs": []
    },
    {
      "cell_type": "markdown",
      "metadata": {
        "id": "HIPGLdX3NsT2",
        "colab_type": "text"
      },
      "source": [
        "# ***Image Creation From Array and Saving in the personalized location***"
      ]
    },
    {
      "cell_type": "code",
      "metadata": {
        "id": "bMfNJqorJoe7",
        "colab_type": "code",
        "colab": {}
      },
      "source": [
        "from PIL import Image\n",
        "a=0 \n",
        "for i in range (0,328): \n",
        "    if(test_labels[i]==2): # Similarly for test_labels =0(hold),1(buy)\n",
        "        x=test_images[i,:,:]\n",
        "        x.reshape(12,15)\n",
        "        array = np.array(x*255).astype(np.uint8)\n",
        "        image = Image.fromarray(array)\n",
        "        a=a+1\n",
        "        image.save('sell'+str(a)+'.png')\n",
        "        display(image)\n",
        "print(a)"
      ],
      "execution_count": null,
      "outputs": []
    }
  ]
}