{
  "nbformat": 4,
  "nbformat_minor": 0,
  "metadata": {
    "colab": {
      "name": "Labelling AndNormalization.ipynb",
      "provenance": []
    },
    "kernelspec": {
      "name": "python3",
      "display_name": "Python 3"
    }
  },
  "cells": [
    {
      "cell_type": "code",
      "metadata": {
        "id": "W53PuOfK-3Bz",
        "colab_type": "code",
        "colab": {}
      },
      "source": [
        "seed_value= 0\n",
        "import os\n",
        "os.environ['PYTHONHASHSEED']=str(seed_value)\n",
        "\n",
        "import random\n",
        "random.seed(seed_value)\n",
        "\n",
        "import numpy as np\n",
        "np.random.seed(seed_value)\n",
        "\n",
        "\n",
        "import tensorflow as tf\n",
        "#tf.random.set_seed(seed_value)\n",
        "tf.compat.v1.set_random_seed(seed_value)\n",
        "\n",
        "from keras import backend as K\n",
        "session_conf = tf.compat.v1.ConfigProto(intra_op_parallelism_threads=1, inter_op_parallelism_threads=1)\n",
        "sess = tf.compat.v1.Session(graph=tf.compat.v1.get_default_graph(), config=session_conf)\n",
        "tf.compat.v1.keras.backend.set_session(sess)\n",
        "\n",
        "import pandas as pd\n",
        "import matplotlib.pyplot as plt\n",
        "from itertools import chain \n",
        "\n",
        "from tensorflow.keras import datasets, layers, models\n",
        "from tensorflow.keras import regularizers"
      ],
      "execution_count": null,
      "outputs": []
    },
    {
      "cell_type": "code",
      "metadata": {
        "id": "IScwRilZ_si1",
        "colab_type": "code",
        "colab": {}
      },
      "source": [
        "df=pd.read_csv(\"training.csv\")\n",
        "#df=pd.read_csv(\"validation.csv\")  #Validation-set\n",
        "#df=pd.read_csv(\"testing.csv\")  #test-set"
      ],
      "execution_count": null,
      "outputs": []
    },
    {
      "cell_type": "markdown",
      "metadata": {
        "id": "MEcwjeiCOBWH",
        "colab_type": "text"
      },
      "source": [
        "# ***Labelling***"
      ]
    },
    {
      "cell_type": "code",
      "metadata": {
        "id": "spJ0I1kBB4p-",
        "colab_type": "code",
        "colab": {}
      },
      "source": [
        "df['result']=0\n"
      ],
      "execution_count": null,
      "outputs": []
    },
    {
      "cell_type": "code",
      "metadata": {
        "id": "_8dnn--dB52s",
        "colab_type": "code",
        "colab": {}
      },
      "source": [
        "def labelling(data):\n",
        "    windowsize = 14\n",
        "    counterrow = 0\n",
        "    numberofdays = data.shape[0]\n",
        "    result = np.array(data['result'])\n",
        "    while(counterrow < numberofdays):\n",
        "        counterrow = counterrow + 1\n",
        "        if(counterrow > windowsize):\n",
        "            windowbeginindex = counterrow - windowsize\n",
        "            windowendindex = windowbeginindex + windowsize - 1\n",
        "            windowmiddleindex = (windowbeginindex + windowendindex)/2\n",
        "            minimum = max(data['Adj Close'])\n",
        "            maximum = 0\n",
        "            for i in range(windowbeginindex-1, windowendindex):               \n",
        "                number = data['Adj Close'].iloc[i]\n",
        "                if(number < minimum):\n",
        "                    minimum = number\n",
        "                    minindex = i\n",
        "                if(number > maximum):\n",
        "                    maximum = number\n",
        "                    maxindex = i\n",
        "            \n",
        "            result[minindex] = 1    ## 1 for buy  ,  0 for hold\n",
        "            result[maxindex] = 2    ## 2 for sell\n",
        "    return result"
      ],
      "execution_count": null,
      "outputs": []
    },
    {
      "cell_type": "code",
      "metadata": {
        "id": "yXhEX43MB6dF",
        "colab_type": "code",
        "colab": {}
      },
      "source": [
        "df[\"result\"]=labelling(df)\n"
      ],
      "execution_count": null,
      "outputs": []
    },
    {
      "cell_type": "markdown",
      "metadata": {
        "id": "X9gKrpuqOIoO",
        "colab_type": "text"
      },
      "source": [
        "# ***Normalization***"
      ]
    },
    {
      "cell_type": "code",
      "metadata": {
        "id": "wxI1KGdWDkul",
        "colab_type": "code",
        "colab": {}
      },
      "source": [
        "df=df.fillna(-12345)\n"
      ],
      "execution_count": null,
      "outputs": []
    },
    {
      "cell_type": "code",
      "metadata": {
        "id": "Wi4fVNE6C4tP",
        "colab_type": "code",
        "colab": {}
      },
      "source": [
        "for n in range(6,21):\n",
        "    df['rsi' + str(n)] = talib.RSI(df['Adj Close'].values, timeperiod=n)\n",
        "    df['roc' + str(n)] = talib.ROC(df['Adj Close'].values, timeperiod=n)\n",
        "    df['sma' + str(n)] = talib.SMA(df['Adj Close'].values, timeperiod=n)\n",
        "    df['ema' + str(n)] = talib.EMA(df['Adj Close'].values, timeperiod=n)\n",
        "    df['wma' + str(n)] = talib.WMA(df['Adj Close'].values, timeperiod=n)\n",
        "    df['tema' + str(n)] = talib.TEMA(df['Adj Close'].values, timeperiod=n)\n",
        "    df['william' + str(n)] = talib.WILLR(df['High'].values,df['Low'].values,df['Adj Close'].values, timeperiod=n)\n",
        "    df['cci' + str(n)] = talib.CCI(df['High'].values,df['Low'].values,df['Adj Close'].values, timeperiod=n)\n",
        "    df['cmo' + str(n)] = talib.CMO(df['Adj Close'].values, timeperiod=n)\n",
        "    df['macd' + str(n)],df['macdSignal' + str(n)] ,df['macdHist' + str(n)]  = talib.MACD(df['Adj Close'].values,fastperiod=12, slowperiod=26, signalperiod=9)\n",
        "    df['ppo' + str(n)] = talib.PPO(df['Adj Close'].values, fastperiod=12, slowperiod=26, matype=0)\n",
        "    df['parabolicsar'+ str(n)] = talib.SAR(df['High'].values, df['Low'].values, acceleration=0, maximum=0)"
      ],
      "execution_count": null,
      "outputs": []
    },
    {
      "cell_type": "code",
      "metadata": {
        "id": "7i7np1I7_8Fo",
        "colab_type": "code",
        "colab": {}
      },
      "source": [
        "rsi=df[['rsi'+str(n) for n in range(6,21)]].to_numpy()\n",
        "roc=df[['roc'+str(n) for n in range(6,21)]].to_numpy()\n",
        "sma=df[['sma'+str(n) for n in range(6,21)]].to_numpy()\n",
        "ema=df[['ema'+str(n) for n in range(6,21)]].to_numpy()\n",
        "wma=df[['wma'+str(n) for n in range(6,21)]].to_numpy()\n",
        "tema=df[['tema'+str(n) for n in range(6,21)]].to_numpy()\n",
        "william=df[['william'+str(n) for n in range(6,21)]].to_numpy()\n",
        "cci=df[['cci'+str(n) for n in range(6,21)]].to_numpy()\n",
        "cmo=df[['cmo'+str(n) for n in range(6,21)]].to_numpy()\n",
        "macd=df[['macd'+str(n) for n in range(6,21)]].to_numpy()\n",
        "ppo=df[['ppo'+str(n) for n in range(6,21)]].to_numpy()\n",
        "parabolicsar=df[['parabolicsar'+str(n) for n in range(6,21)]].to_numpy()\n",
        "\n"
      ],
      "execution_count": null,
      "outputs": []
    },
    {
      "cell_type": "code",
      "metadata": {
        "id": "ks9wDMFT_-9i",
        "colab_type": "code",
        "colab": {}
      },
      "source": [
        "train_images=[[j for j in chain.from_iterable([rsi[i],roc[i],sma[i],ema[i],william[i],cci[i],cmo[i],macd[i],ppo[i],tema[i],wma[i],parabolicsar[i]])]for i in df.index]\n"
      ],
      "execution_count": null,
      "outputs": []
    },
    {
      "cell_type": "code",
      "metadata": {
        "id": "cCbswtLYAc5D",
        "colab_type": "code",
        "colab": {}
      },
      "source": [
        "train_images=np.array(train_images)\n",
        "\n",
        "\n",
        "train_images=train_images.reshape(1423*180)\n"
      ],
      "execution_count": null,
      "outputs": []
    },
    {
      "cell_type": "code",
      "metadata": {
        "id": "Bg9rojRIEHUD",
        "colab_type": "code",
        "colab": {}
      },
      "source": [
        "temp=np.sort(train_images)\n",
        "temp[::-1].sort()\n"
      ],
      "execution_count": null,
      "outputs": []
    },
    {
      "cell_type": "code",
      "metadata": {
        "id": "_vfU6QSfEaiU",
        "colab_type": "code",
        "colab": {}
      },
      "source": [
        "def normalization(data,x):\n",
        " \n",
        " unique = np.unique(x, axis=0)\n",
        " unique =unique.tolist()\n",
        " a=len(unique)\n",
        " for n in range(6,21):\n",
        "  for i in range(0,1732):\n",
        "    data.at[i,'rsi'+str(n)]=unique.index(data['rsi'+str(n)][i])/a\n",
        "    data.at[i,'roc'+str(n)]=unique.index(data['roc'+str(n)][i])/a\n",
        "    data.at[i,'sma'+str(n)]=unique.index(data['sma'+str(n)][i])/a\n",
        "    data.at[i,'ema'+str(n)]=unique.index(data['ema'+str(n)][i])/a\n",
        "    data.at[i,'wma' +str(n)]=unique.index(data['wma'+str(n)][i])/a\n",
        "    data.at[i,'tema'+str(n)]=unique.index(data['tema'+str(n)][i])/a\n",
        "    data.at[i,'william'+str(n)]=unique.index(data['william'+str(n)][i])/a\n",
        "    data.at[i,'cci'+str(n)]=unique.index(data['cci'+str(n)][i])/a\n",
        "    data.at[i,'cmo'+str(n)]=unique.index(data['cmo'+str(n)][i])/a\n",
        "    data.at[i,'macd'+str(n)]=unique.index(data['macd'+str(n)][i])/a\n",
        "    data.at[i,'ppo'+str(n)]=unique.index(data['ppo'+str(n)][i])/a\n",
        "    data.at[i,'parabolicsar'+str(n)]=unique.index(data['parabolicsar'+str(n)][i])/a\n",
        " return data\n",
        "  \n",
        "\n",
        "df =normalization(df,temp)\n"
      ],
      "execution_count": null,
      "outputs": []
    },
    {
      "cell_type": "markdown",
      "metadata": {
        "id": "dMYGthljOOYX",
        "colab_type": "text"
      },
      "source": [
        "# ***Saving file for further use***"
      ]
    },
    {
      "cell_type": "code",
      "metadata": {
        "id": "aS2RAZGwG_dw",
        "colab_type": "code",
        "colab": {}
      },
      "source": [
        "df.to_csv('training.csv')"
      ],
      "execution_count": null,
      "outputs": []
    }
  ]
}